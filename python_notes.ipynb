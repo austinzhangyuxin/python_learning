{
 "cells": [
  {
   "cell_type": "markdown",
   "id": "75d744fe-1143-43d5-8538-7dc84e9b9d48",
   "metadata": {
    "pycharm": {
     "name": "#%% md\n"
    }
   },
   "source": [
    "# Python is 0-indexed"
   ]
  },
  {
   "cell_type": "code",
   "execution_count": 2,
   "id": "d4b8ab2a-e958-40f2-ace1-ccb73733baba",
   "metadata": {
    "pycharm": {
     "name": "#%%\n"
    }
   },
   "outputs": [
    {
     "name": "stdout",
     "output_type": "stream",
     "text": [
      "0\n",
      "1\n",
      "2\n",
      "3\n",
      "4\n",
      "5\n",
      "6\n",
      "7\n",
      "8\n",
      "9\n"
     ]
    }
   ],
   "source": [
    "for i in range(10):\n",
    "    print(i)"
   ]
  },
  {
   "cell_type": "code",
   "execution_count": 3,
   "id": "b4d08e2a-231a-4dad-87a4-c9352f8b9136",
   "metadata": {
    "pycharm": {
     "name": "#%%\n"
    }
   },
   "outputs": [
    {
     "name": "stdout",
     "output_type": "stream",
     "text": [
      "1\n",
      "2\n",
      "3\n",
      "4\n",
      "5\n",
      "6\n",
      "7\n",
      "8\n",
      "9\n",
      "10\n"
     ]
    }
   ],
   "source": [
    "for i in range(1, 11):\n",
    "    print(i)"
   ]
  },
  {
   "cell_type": "code",
   "execution_count": 4,
   "id": "4ecf8637-b049-4d18-8d18-4c40e7a545cd",
   "metadata": {
    "pycharm": {
     "name": "#%%\n"
    }
   },
   "outputs": [
    {
     "name": "stdout",
     "output_type": "stream",
     "text": [
      "1\n",
      "2\n",
      "3\n",
      "4\n",
      "5\n",
      "6\n",
      "7\n",
      "8\n",
      "9\n",
      "10\n",
      "11\n",
      "12\n",
      "13\n",
      "14\n"
     ]
    }
   ],
   "source": [
    "for i in range(1, 15):\n",
    "    print(i)"
   ]
  },
  {
   "cell_type": "code",
   "execution_count": 5,
   "id": "4db0e9fe-6af9-4568-b750-22babb52bdfc",
   "metadata": {
    "pycharm": {
     "name": "#%%\n"
    }
   },
   "outputs": [
    {
     "name": "stdout",
     "output_type": "stream",
     "text": [
      "1\n",
      "2\n",
      "3\n",
      "4\n",
      "5\n",
      "6\n",
      "7\n",
      "8\n",
      "9\n",
      "10\n",
      "11\n",
      "12\n",
      "13\n",
      "14\n",
      "15\n",
      "16\n",
      "17\n",
      "18\n",
      "19\n",
      "20\n",
      "21\n",
      "22\n",
      "23\n",
      "24\n",
      "25\n",
      "26\n",
      "27\n",
      "28\n",
      "29\n",
      "30\n",
      "31\n",
      "32\n",
      "33\n",
      "34\n",
      "35\n",
      "36\n",
      "37\n",
      "38\n",
      "39\n",
      "40\n",
      "41\n",
      "42\n",
      "43\n",
      "44\n",
      "45\n",
      "46\n",
      "47\n",
      "48\n",
      "49\n",
      "50\n",
      "51\n",
      "52\n",
      "53\n",
      "54\n",
      "55\n",
      "56\n",
      "57\n",
      "58\n",
      "59\n",
      "60\n",
      "61\n",
      "62\n",
      "63\n",
      "64\n",
      "65\n",
      "66\n",
      "67\n",
      "68\n",
      "69\n",
      "70\n",
      "71\n",
      "72\n",
      "73\n",
      "74\n",
      "75\n",
      "76\n",
      "77\n",
      "78\n",
      "79\n",
      "80\n",
      "81\n",
      "82\n",
      "83\n",
      "84\n",
      "85\n",
      "86\n",
      "87\n",
      "88\n",
      "89\n",
      "90\n",
      "91\n",
      "92\n",
      "93\n",
      "94\n",
      "95\n",
      "96\n",
      "97\n",
      "98\n",
      "99\n",
      "100\n"
     ]
    }
   ],
   "source": [
    "for i in range(1, 101):\n",
    "    print(i)"
   ]
  },
  {
   "cell_type": "code",
   "execution_count": 9,
   "id": "17f41a52-bc07-4b77-9e23-8c92ec5ec8fc",
   "metadata": {
    "pycharm": {
     "name": "#%%\n"
    }
   },
   "outputs": [
    {
     "name": "stdin",
     "output_type": "stream",
     "text": [
      "input an integer:  100\n"
     ]
    },
    {
     "name": "stdout",
     "output_type": "stream",
     "text": [
      "i is 1\n",
      "total is 1\n",
      "i is 2\n",
      "total is 3\n",
      "i is 3\n",
      "total is 6\n",
      "i is 4\n",
      "total is 10\n",
      "i is 5\n",
      "total is 15\n",
      "i is 6\n",
      "total is 21\n",
      "i is 7\n",
      "total is 28\n",
      "i is 8\n",
      "total is 36\n",
      "i is 9\n",
      "total is 45\n",
      "i is 10\n",
      "total is 55\n",
      "i is 11\n",
      "total is 66\n",
      "i is 12\n",
      "total is 78\n",
      "i is 13\n",
      "total is 91\n",
      "i is 14\n",
      "total is 105\n",
      "i is 15\n",
      "total is 120\n",
      "i is 16\n",
      "total is 136\n",
      "i is 17\n",
      "total is 153\n",
      "i is 18\n",
      "total is 171\n",
      "i is 19\n",
      "total is 190\n",
      "i is 20\n",
      "total is 210\n",
      "i is 21\n",
      "total is 231\n",
      "i is 22\n",
      "total is 253\n",
      "i is 23\n",
      "total is 276\n",
      "i is 24\n",
      "total is 300\n",
      "i is 25\n",
      "total is 325\n",
      "i is 26\n",
      "total is 351\n",
      "i is 27\n",
      "total is 378\n",
      "i is 28\n",
      "total is 406\n",
      "i is 29\n",
      "total is 435\n",
      "i is 30\n",
      "total is 465\n",
      "i is 31\n",
      "total is 496\n",
      "i is 32\n",
      "total is 528\n",
      "i is 33\n",
      "total is 561\n",
      "i is 34\n",
      "total is 595\n",
      "i is 35\n",
      "total is 630\n",
      "i is 36\n",
      "total is 666\n",
      "i is 37\n",
      "total is 703\n",
      "i is 38\n",
      "total is 741\n",
      "i is 39\n",
      "total is 780\n",
      "i is 40\n",
      "total is 820\n",
      "i is 41\n",
      "total is 861\n",
      "i is 42\n",
      "total is 903\n",
      "i is 43\n",
      "total is 946\n",
      "i is 44\n",
      "total is 990\n",
      "i is 45\n",
      "total is 1035\n",
      "i is 46\n",
      "total is 1081\n",
      "i is 47\n",
      "total is 1128\n",
      "i is 48\n",
      "total is 1176\n",
      "i is 49\n",
      "total is 1225\n",
      "i is 50\n",
      "total is 1275\n",
      "i is 51\n",
      "total is 1326\n",
      "i is 52\n",
      "total is 1378\n",
      "i is 53\n",
      "total is 1431\n",
      "i is 54\n",
      "total is 1485\n",
      "i is 55\n",
      "total is 1540\n",
      "i is 56\n",
      "total is 1596\n",
      "i is 57\n",
      "total is 1653\n",
      "i is 58\n",
      "total is 1711\n",
      "i is 59\n",
      "total is 1770\n",
      "i is 60\n",
      "total is 1830\n",
      "i is 61\n",
      "total is 1891\n",
      "i is 62\n",
      "total is 1953\n",
      "i is 63\n",
      "total is 2016\n",
      "i is 64\n",
      "total is 2080\n",
      "i is 65\n",
      "total is 2145\n",
      "i is 66\n",
      "total is 2211\n",
      "i is 67\n",
      "total is 2278\n",
      "i is 68\n",
      "total is 2346\n",
      "i is 69\n",
      "total is 2415\n",
      "i is 70\n",
      "total is 2485\n",
      "i is 71\n",
      "total is 2556\n",
      "i is 72\n",
      "total is 2628\n",
      "i is 73\n",
      "total is 2701\n",
      "i is 74\n",
      "total is 2775\n",
      "i is 75\n",
      "total is 2850\n",
      "i is 76\n",
      "total is 2926\n",
      "i is 77\n",
      "total is 3003\n",
      "i is 78\n",
      "total is 3081\n",
      "i is 79\n",
      "total is 3160\n",
      "i is 80\n",
      "total is 3240\n",
      "i is 81\n",
      "total is 3321\n",
      "i is 82\n",
      "total is 3403\n",
      "i is 83\n",
      "total is 3486\n",
      "i is 84\n",
      "total is 3570\n",
      "i is 85\n",
      "total is 3655\n",
      "i is 86\n",
      "total is 3741\n",
      "i is 87\n",
      "total is 3828\n",
      "i is 88\n",
      "total is 3916\n",
      "i is 89\n",
      "total is 4005\n",
      "i is 90\n",
      "total is 4095\n",
      "i is 91\n",
      "total is 4186\n",
      "i is 92\n",
      "total is 4278\n",
      "i is 93\n",
      "total is 4371\n",
      "i is 94\n",
      "total is 4465\n",
      "i is 95\n",
      "total is 4560\n",
      "i is 96\n",
      "total is 4656\n",
      "i is 97\n",
      "total is 4753\n",
      "i is 98\n",
      "total is 4851\n",
      "i is 99\n",
      "total is 4950\n",
      "i is 100\n",
      "total is 5050\n",
      "5050\n"
     ]
    }
   ],
   "source": [
    "# Replace ___ with your code\n",
    "\n",
    "# get an integer input from the user\n",
    "n = int(input('input an integer: '))\n",
    "\n",
    "# initializes the variable total with a value of 0\n",
    "total = 0\n",
    "\n",
    "\n",
    "# start a for loop that iterates from 1 to n (inclusive)\n",
    "for i in range(1, n+1):\n",
    "    print(f'i is {i}')\n",
    "    # add the current value of i to the total in each iteration\n",
    "    total = total + i\n",
    "    print(f'total is {total}')\n",
    "\n",
    "# print the final value of total after the loop completes\n",
    "print(total)"
   ]
  },
  {
   "cell_type": "code",
   "execution_count": 10,
   "id": "de43079d-fae0-45fe-bad3-cc31aba92743",
   "metadata": {
    "pycharm": {
     "name": "#%%\n"
    }
   },
   "outputs": [
    {
     "name": "stdin",
     "output_type": "stream",
     "text": [
      " 10\n"
     ]
    },
    {
     "name": "stdout",
     "output_type": "stream",
     "text": [
      "1\n",
      "2\n",
      "6\n",
      "24\n",
      "120\n",
      "720\n",
      "5040\n",
      "40320\n",
      "362880\n",
      "3628800\n"
     ]
    }
   ],
   "source": [
    "# Replace ___ with your code\n",
    "\n",
    "# take integer input\n",
    "n = int(input(\"\"))\n",
    "\n",
    "# create a variable total and assign 1\n",
    "total = 1\n",
    "\n",
    "# use a for loop to compute the factorial\n",
    "for i in range(1, n+1):\n",
    "    total = total * i \n",
    "    print(total)\n",
    "\n"
   ]
  },
  {
   "cell_type": "code",
   "execution_count": null,
   "id": "dc4e0649-0bcd-4d71-b74c-eace4a934dfd",
   "metadata": {
    "pycharm": {
     "name": "#%%\n"
    }
   },
   "outputs": [],
   "source": []
  }
 ],
 "metadata": {
  "kernelspec": {
   "display_name": "Python 3 (ipykernel)",
   "language": "python",
   "name": "python3"
  },
  "language_info": {
   "codemirror_mode": {
    "name": "ipython",
    "version": 3
   },
   "file_extension": ".py",
   "mimetype": "text/x-python",
   "name": "python",
   "nbconvert_exporter": "python",
   "pygments_lexer": "ipython3",
   "version": "3.11.5"
  }
 },
 "nbformat": 4,
 "nbformat_minor": 5
}